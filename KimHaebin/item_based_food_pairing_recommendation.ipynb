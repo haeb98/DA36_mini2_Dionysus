{
 "cells": [
  {
   "cell_type": "code",
   "id": "initial_id",
   "metadata": {
    "collapsed": true,
    "ExecuteTime": {
     "end_time": "2024-11-07T02:29:30.475335Z",
     "start_time": "2024-11-07T02:29:30.472203Z"
    }
   },
   "source": [
    "import pandas as pd\n",
    "import numpy as np\n",
    "import matplotlib.pyplot as plt\n",
    "import seaborn as sns"
   ],
   "outputs": [],
   "execution_count": 1
  },
  {
   "metadata": {
    "ExecuteTime": {
     "end_time": "2024-11-07T02:40:20.778145Z",
     "start_time": "2024-11-07T02:40:20.758810Z"
    }
   },
   "cell_type": "code",
   "source": "df = pd.read_csv('./data/vivino_data_241107.csv')",
   "id": "4f133f116b29132f",
   "outputs": [],
   "execution_count": 14
  },
  {
   "metadata": {
    "ExecuteTime": {
     "end_time": "2024-11-07T02:40:21.705117Z",
     "start_time": "2024-11-07T02:40:21.696086Z"
    }
   },
   "cell_type": "code",
   "source": "df.info()",
   "id": "797af01e153b8a35",
   "outputs": [
    {
     "name": "stdout",
     "output_type": "stream",
     "text": [
      "<class 'pandas.core.frame.DataFrame'>\n",
      "RangeIndex: 3675 entries, 0 to 3674\n",
      "Data columns (total 19 columns):\n",
      " #   Column                   Non-Null Count  Dtype  \n",
      "---  ------                   --------------  -----  \n",
      " 0   vintage_id               3675 non-null   int64  \n",
      " 1   vintage_name             3675 non-null   object \n",
      " 2   vintage_year             3675 non-null   object \n",
      " 3   vintage_price            3675 non-null   int64  \n",
      " 4   vintage_ratings_average  3675 non-null   float64\n",
      " 5   vintage_ratings_count    3675 non-null   int64  \n",
      " 6   vintage_wine_id          3675 non-null   int64  \n",
      " 7   vintage_wine_name        3675 non-null   object \n",
      " 8   vintage_winery           3674 non-null   object \n",
      " 9   vintage_country          3675 non-null   object \n",
      " 10  vintage_region           3675 non-null   object \n",
      " 11  vintage_wine_type_id     3675 non-null   int64  \n",
      " 12  acidity                  3555 non-null   float64\n",
      " 13  fizziness                507 non-null    float64\n",
      " 14  intensity                3555 non-null   float64\n",
      " 15  sweetness                3048 non-null   float64\n",
      " 16  tannin                   2268 non-null   float64\n",
      " 17  flavor                   3672 non-null   object \n",
      " 18  foods                    3675 non-null   object \n",
      "dtypes: float64(6), int64(5), object(8)\n",
      "memory usage: 545.6+ KB\n"
     ]
    }
   ],
   "execution_count": 15
  },
  {
   "metadata": {
    "ExecuteTime": {
     "end_time": "2024-11-07T02:40:23.959001Z",
     "start_time": "2024-11-07T02:40:23.945666Z"
    }
   },
   "cell_type": "code",
   "source": "df.head()",
   "id": "f10b33afd045485b",
   "outputs": [
    {
     "data": {
      "text/plain": [
       "   vintage_id                                       vintage_name vintage_year  \\\n",
       "0   177404982                     Carl Loewen 1896 Riesling 2023         2023   \n",
       "1     1510217  Château Haut-Brion Pessac-Léognan (Premier Gra...         1989   \n",
       "2     2611979  Château Latour Grand Vin Pauillac (Premier Gra...         1982   \n",
       "3   170413977  Domaines Ott Clos Mireille Rosé (Coeur de Grai...         2022   \n",
       "4     1688597                           Krug Clos du Mesnil 2000         2000   \n",
       "\n",
       "   vintage_price  vintage_ratings_average  vintage_ratings_count  \\\n",
       "0          82045                      5.0                    115   \n",
       "1        3244496                      4.8                   1538   \n",
       "2        2759686                      4.8                   1445   \n",
       "3          59594                      4.8                    581   \n",
       "4        2175423                      4.8                    347   \n",
       "\n",
       "   vintage_wine_id                                  vintage_wine_name  \\\n",
       "0          1945087                                 1896 Riesling 2023   \n",
       "1          1152755     Pessac-Léognan (Premier Grand Cru Classé) 1989   \n",
       "2          1655970  Grand Vin Pauillac (Premier Grand Cru Classé) ...   \n",
       "3          1382222           Clos Mireille Rosé (Coeur de Grain) 2022   \n",
       "4            79635                                Clos du Mesnil 2000   \n",
       "\n",
       "       vintage_winery vintage_country     vintage_region  \\\n",
       "0         Carl Loewen         Germany              Mosel   \n",
       "1  Château Haut-Brion          France     Pessac-Léognan   \n",
       "2      Château Latour          France           Pauillac   \n",
       "3        Domaines Ott          France  Côtes de Provence   \n",
       "4                Krug          France          Champagne   \n",
       "\n",
       "   vintage_wine_type_id  acidity  fizziness  intensity  sweetness  tannin  \\\n",
       "0                     2     4.61        NaN       3.32       2.05     NaN   \n",
       "1                     1     4.22        NaN       4.08       1.67    4.23   \n",
       "2                     1     4.12        NaN       4.12       1.68    4.13   \n",
       "3                     4     3.77        NaN       2.50       1.33     NaN   \n",
       "4                     3     4.54       4.22       3.97        NaN     NaN   \n",
       "\n",
       "         flavor                                              foods  \n",
       "0    tree_fruit  ['Pork', 'Shellfish', 'Spicy food', 'Poultry',...  \n",
       "1           oak  ['Beef', 'Lamb', 'Game (deer, venison)', 'Poul...  \n",
       "2           oak  ['Beef', 'Lamb', 'Game (deer, venison)', 'Poul...  \n",
       "3  citrus_fruit     ['Pork', 'Shellfish', 'Vegetarian', 'Poultry']  \n",
       "4       non_oak  ['Pork', 'Rich fish (salmon, tuna etc)', 'Shel...  "
      ],
      "text/html": [
       "<div>\n",
       "<style scoped>\n",
       "    .dataframe tbody tr th:only-of-type {\n",
       "        vertical-align: middle;\n",
       "    }\n",
       "\n",
       "    .dataframe tbody tr th {\n",
       "        vertical-align: top;\n",
       "    }\n",
       "\n",
       "    .dataframe thead th {\n",
       "        text-align: right;\n",
       "    }\n",
       "</style>\n",
       "<table border=\"1\" class=\"dataframe\">\n",
       "  <thead>\n",
       "    <tr style=\"text-align: right;\">\n",
       "      <th></th>\n",
       "      <th>vintage_id</th>\n",
       "      <th>vintage_name</th>\n",
       "      <th>vintage_year</th>\n",
       "      <th>vintage_price</th>\n",
       "      <th>vintage_ratings_average</th>\n",
       "      <th>vintage_ratings_count</th>\n",
       "      <th>vintage_wine_id</th>\n",
       "      <th>vintage_wine_name</th>\n",
       "      <th>vintage_winery</th>\n",
       "      <th>vintage_country</th>\n",
       "      <th>vintage_region</th>\n",
       "      <th>vintage_wine_type_id</th>\n",
       "      <th>acidity</th>\n",
       "      <th>fizziness</th>\n",
       "      <th>intensity</th>\n",
       "      <th>sweetness</th>\n",
       "      <th>tannin</th>\n",
       "      <th>flavor</th>\n",
       "      <th>foods</th>\n",
       "    </tr>\n",
       "  </thead>\n",
       "  <tbody>\n",
       "    <tr>\n",
       "      <th>0</th>\n",
       "      <td>177404982</td>\n",
       "      <td>Carl Loewen 1896 Riesling 2023</td>\n",
       "      <td>2023</td>\n",
       "      <td>82045</td>\n",
       "      <td>5.0</td>\n",
       "      <td>115</td>\n",
       "      <td>1945087</td>\n",
       "      <td>1896 Riesling 2023</td>\n",
       "      <td>Carl Loewen</td>\n",
       "      <td>Germany</td>\n",
       "      <td>Mosel</td>\n",
       "      <td>2</td>\n",
       "      <td>4.61</td>\n",
       "      <td>NaN</td>\n",
       "      <td>3.32</td>\n",
       "      <td>2.05</td>\n",
       "      <td>NaN</td>\n",
       "      <td>tree_fruit</td>\n",
       "      <td>['Pork', 'Shellfish', 'Spicy food', 'Poultry',...</td>\n",
       "    </tr>\n",
       "    <tr>\n",
       "      <th>1</th>\n",
       "      <td>1510217</td>\n",
       "      <td>Château Haut-Brion Pessac-Léognan (Premier Gra...</td>\n",
       "      <td>1989</td>\n",
       "      <td>3244496</td>\n",
       "      <td>4.8</td>\n",
       "      <td>1538</td>\n",
       "      <td>1152755</td>\n",
       "      <td>Pessac-Léognan (Premier Grand Cru Classé) 1989</td>\n",
       "      <td>Château Haut-Brion</td>\n",
       "      <td>France</td>\n",
       "      <td>Pessac-Léognan</td>\n",
       "      <td>1</td>\n",
       "      <td>4.22</td>\n",
       "      <td>NaN</td>\n",
       "      <td>4.08</td>\n",
       "      <td>1.67</td>\n",
       "      <td>4.23</td>\n",
       "      <td>oak</td>\n",
       "      <td>['Beef', 'Lamb', 'Game (deer, venison)', 'Poul...</td>\n",
       "    </tr>\n",
       "    <tr>\n",
       "      <th>2</th>\n",
       "      <td>2611979</td>\n",
       "      <td>Château Latour Grand Vin Pauillac (Premier Gra...</td>\n",
       "      <td>1982</td>\n",
       "      <td>2759686</td>\n",
       "      <td>4.8</td>\n",
       "      <td>1445</td>\n",
       "      <td>1655970</td>\n",
       "      <td>Grand Vin Pauillac (Premier Grand Cru Classé) ...</td>\n",
       "      <td>Château Latour</td>\n",
       "      <td>France</td>\n",
       "      <td>Pauillac</td>\n",
       "      <td>1</td>\n",
       "      <td>4.12</td>\n",
       "      <td>NaN</td>\n",
       "      <td>4.12</td>\n",
       "      <td>1.68</td>\n",
       "      <td>4.13</td>\n",
       "      <td>oak</td>\n",
       "      <td>['Beef', 'Lamb', 'Game (deer, venison)', 'Poul...</td>\n",
       "    </tr>\n",
       "    <tr>\n",
       "      <th>3</th>\n",
       "      <td>170413977</td>\n",
       "      <td>Domaines Ott Clos Mireille Rosé (Coeur de Grai...</td>\n",
       "      <td>2022</td>\n",
       "      <td>59594</td>\n",
       "      <td>4.8</td>\n",
       "      <td>581</td>\n",
       "      <td>1382222</td>\n",
       "      <td>Clos Mireille Rosé (Coeur de Grain) 2022</td>\n",
       "      <td>Domaines Ott</td>\n",
       "      <td>France</td>\n",
       "      <td>Côtes de Provence</td>\n",
       "      <td>4</td>\n",
       "      <td>3.77</td>\n",
       "      <td>NaN</td>\n",
       "      <td>2.50</td>\n",
       "      <td>1.33</td>\n",
       "      <td>NaN</td>\n",
       "      <td>citrus_fruit</td>\n",
       "      <td>['Pork', 'Shellfish', 'Vegetarian', 'Poultry']</td>\n",
       "    </tr>\n",
       "    <tr>\n",
       "      <th>4</th>\n",
       "      <td>1688597</td>\n",
       "      <td>Krug Clos du Mesnil 2000</td>\n",
       "      <td>2000</td>\n",
       "      <td>2175423</td>\n",
       "      <td>4.8</td>\n",
       "      <td>347</td>\n",
       "      <td>79635</td>\n",
       "      <td>Clos du Mesnil 2000</td>\n",
       "      <td>Krug</td>\n",
       "      <td>France</td>\n",
       "      <td>Champagne</td>\n",
       "      <td>3</td>\n",
       "      <td>4.54</td>\n",
       "      <td>4.22</td>\n",
       "      <td>3.97</td>\n",
       "      <td>NaN</td>\n",
       "      <td>NaN</td>\n",
       "      <td>non_oak</td>\n",
       "      <td>['Pork', 'Rich fish (salmon, tuna etc)', 'Shel...</td>\n",
       "    </tr>\n",
       "  </tbody>\n",
       "</table>\n",
       "</div>"
      ]
     },
     "execution_count": 16,
     "metadata": {},
     "output_type": "execute_result"
    }
   ],
   "execution_count": 16
  },
  {
   "metadata": {
    "ExecuteTime": {
     "end_time": "2024-11-07T02:40:25.114249Z",
     "start_time": "2024-11-07T02:40:25.109011Z"
    }
   },
   "cell_type": "code",
   "source": "df['vintage_wine_type_id'].unique()",
   "id": "d291a8a38de6e9ab",
   "outputs": [
    {
     "data": {
      "text/plain": [
       "array([ 2,  1,  4,  3, 24,  7, 25], dtype=int64)"
      ]
     },
     "execution_count": 17,
     "metadata": {},
     "output_type": "execute_result"
    }
   ],
   "execution_count": 17
  },
  {
   "metadata": {},
   "cell_type": "markdown",
   "source": "## \"foods\" 컬럼 값 문자열의 나열로 변환",
   "id": "cd0ca431d35321ff"
  },
  {
   "metadata": {
    "ExecuteTime": {
     "end_time": "2024-11-07T02:43:44.064234Z",
     "start_time": "2024-11-07T02:43:44.058637Z"
    }
   },
   "cell_type": "code",
   "source": "type(df['foods'][0])",
   "id": "455ef714a2a10537",
   "outputs": [
    {
     "data": {
      "text/plain": [
       "str"
      ]
     },
     "execution_count": 21,
     "metadata": {},
     "output_type": "execute_result"
    }
   ],
   "execution_count": 21
  },
  {
   "metadata": {
    "ExecuteTime": {
     "end_time": "2024-11-07T02:44:25.249271Z",
     "start_time": "2024-11-07T02:44:25.195824Z"
    }
   },
   "cell_type": "code",
   "source": [
    "# literal_eval: 문자열을 파이썬 코드로 파싱 처리\n",
    "from ast import literal_eval\n",
    "\n",
    "# str -> lst(dict) 변환\n",
    "df['foods'] = df['foods'].apply(literal_eval)"
   ],
   "id": "c1823f548a98b009",
   "outputs": [],
   "execution_count": 22
  },
  {
   "metadata": {
    "ExecuteTime": {
     "end_time": "2024-11-07T02:44:30.021758Z",
     "start_time": "2024-11-07T02:44:30.017229Z"
    }
   },
   "cell_type": "code",
   "source": "type(df['foods'][0])",
   "id": "b0c9cbe2224fccd8",
   "outputs": [
    {
     "data": {
      "text/plain": [
       "list"
      ]
     },
     "execution_count": 23,
     "metadata": {},
     "output_type": "execute_result"
    }
   ],
   "execution_count": 23
  },
  {
   "metadata": {
    "ExecuteTime": {
     "end_time": "2024-11-07T02:44:50.799017Z",
     "start_time": "2024-11-07T02:44:50.793726Z"
    }
   },
   "cell_type": "code",
   "source": "df['foods'] = df['foods'].apply(lambda food: ', '.join(food) if isinstance(food, list) else food)",
   "id": "d91483065321b311",
   "outputs": [],
   "execution_count": 24
  },
  {
   "metadata": {
    "ExecuteTime": {
     "end_time": "2024-11-07T02:44:53.642902Z",
     "start_time": "2024-11-07T02:44:53.636968Z"
    }
   },
   "cell_type": "code",
   "source": "df['foods']",
   "id": "d9c2a7805a302717",
   "outputs": [
    {
     "data": {
      "text/plain": [
       "0        Pork, Shellfish, Spicy food, Poultry, Cured Meat\n",
       "1               Beef, Lamb, Game (deer, venison), Poultry\n",
       "2               Beef, Lamb, Game (deer, venison), Poultry\n",
       "3                    Pork, Shellfish, Vegetarian, Poultry\n",
       "4       Pork, Rich fish (salmon, tuna etc), Shellfish,...\n",
       "                              ...                        \n",
       "3670                              Beef, Pasta, Veal, Pork\n",
       "3671    Pork, Vegetarian, Poultry, Appetizers and snac...\n",
       "3672                      Appetizers and snacks, Aperitif\n",
       "3673                                                     \n",
       "3674                      Appetizers and snacks, Aperitif\n",
       "Name: foods, Length: 3675, dtype: object"
      ]
     },
     "execution_count": 25,
     "metadata": {},
     "output_type": "execute_result"
    }
   ],
   "execution_count": 25
  },
  {
   "metadata": {},
   "cell_type": "code",
   "outputs": [],
   "execution_count": null,
   "source": "",
   "id": "b1e8ecc6590dff64"
  }
 ],
 "metadata": {
  "kernelspec": {
   "display_name": "Python 3",
   "language": "python",
   "name": "python3"
  },
  "language_info": {
   "codemirror_mode": {
    "name": "ipython",
    "version": 2
   },
   "file_extension": ".py",
   "mimetype": "text/x-python",
   "name": "python",
   "nbconvert_exporter": "python",
   "pygments_lexer": "ipython2",
   "version": "2.7.6"
  }
 },
 "nbformat": 4,
 "nbformat_minor": 5
}
